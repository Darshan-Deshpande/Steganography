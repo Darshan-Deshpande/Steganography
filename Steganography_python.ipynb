{
 "cells": [
  {
   "cell_type": "code",
   "execution_count": 1,
   "metadata": {},
   "outputs": [],
   "source": [
    "from PIL import Image\n",
    "\n",
    "MAX_COLOR_VALUE = 255\n",
    "MAX_BIT_VALUE = 8"
   ]
  },
  {
   "cell_type": "code",
   "execution_count": 2,
   "metadata": {},
   "outputs": [],
   "source": [
    "def make_image(data, resolution):\n",
    "    image = Image.new(\"RGB\", resolution)\n",
    "    image.putdata(data) \n",
    "    return image"
   ]
  },
  {
   "cell_type": "code",
   "execution_count": 3,
   "metadata": {},
   "outputs": [],
   "source": [
    "def remove_n_least_significant_bits(value, n):\n",
    "    value = value >> n \n",
    "    return value << n\n",
    "\n",
    "def get_n_least_significant_bits(value, n):\n",
    "    value = value << MAX_BIT_VALUE - n\n",
    "    value = value % MAX_COLOR_VALUE\n",
    "    return value >> MAX_BIT_VALUE - n\n",
    "\n",
    "def get_n_most_significant_bits(value, n):\n",
    "    return value >> MAX_BIT_VALUE - n\n",
    "\n",
    "def shift_n_bits_to_8(value, n):\n",
    "    return value << MAX_BIT_VALUE - n"
   ]
  },
  {
   "cell_type": "markdown",
   "metadata": {},
   "source": [
    "## Function to encode image"
   ]
  },
  {
   "cell_type": "code",
   "execution_count": 4,
   "metadata": {},
   "outputs": [],
   "source": [
    "def encode(image_to_hide, image_to_hide_in, n_bits):\n",
    "    \n",
    "    width, height = image_to_hide_in.size\n",
    "    hide_image = image_to_hide.load()\n",
    "    hide_in_image = image_to_hide_in.load()\n",
    "    data = []\n",
    "    for y in range(height):\n",
    "        for x in range(width):\n",
    "            try:\n",
    "                r_hide, g_hide, b_hide= hide_image[x,y]\n",
    "                r_hide = get_n_most_significant_bits(r_hide, n_bits)\n",
    "                g_hide = get_n_most_significant_bits(g_hide, n_bits)\n",
    "                b_hide = get_n_most_significant_bits(b_hide, n_bits)\n",
    "                \n",
    "                r_hide_in, g_hide_in, b_hide_in= hide_in_image[x,y]\n",
    "                r_hide_in = remove_n_least_significant_bits(r_hide_in, n_bits)\n",
    "                g_hide_in = remove_n_least_significant_bits(g_hide_in, n_bits)\n",
    "                b_hide_in = remove_n_least_significant_bits(b_hide_in, n_bits)\n",
    "\n",
    "                data.append((r_hide + r_hide_in, \n",
    "                             g_hide + g_hide_in,\n",
    "                             b_hide + b_hide_in))\n",
    "\n",
    "            except Exception as e:\n",
    "                print(e)\n",
    "\n",
    "    return make_image(data, image_to_hide.size)"
   ]
  },
  {
   "cell_type": "markdown",
   "metadata": {},
   "source": [
    "## Function to decode image"
   ]
  },
  {
   "cell_type": "code",
   "execution_count": 5,
   "metadata": {},
   "outputs": [],
   "source": [
    "def decode(image_to_decode, n_bits):\n",
    "    width, height = image_to_decode.size\n",
    "    encoded_image = image_to_decode.load()\n",
    "    data = []\n",
    "    for y in range(height):\n",
    "        for x in range(width):\n",
    "            r_encoded, g_encoded, b_encoded = encoded_image[x,y]\n",
    "\n",
    "            r_encoded = get_n_least_significant_bits(r_encoded, n_bits)\n",
    "            g_encoded = get_n_least_significant_bits(g_encoded, n_bits)\n",
    "            b_encoded = get_n_least_significant_bits(b_encoded, n_bits)\n",
    "            \n",
    "            r_encoded = shift_n_bits_to_8(r_encoded, n_bits)\n",
    "            g_encoded = shift_n_bits_to_8(g_encoded, n_bits)\n",
    "            b_encoded = shift_n_bits_to_8(b_encoded, n_bits)\n",
    "\n",
    "            data.append((r_encoded, g_encoded, b_encoded))\n",
    "            \n",
    "    return make_image(data, image_to_decode.size)"
   ]
  },
  {
   "cell_type": "markdown",
   "metadata": {},
   "source": [
    "## Encoding an image in another image"
   ]
  },
  {
   "cell_type": "code",
   "execution_count": 14,
   "metadata": {},
   "outputs": [
    {
     "name": "stdout",
     "output_type": "stream",
     "text": [
      "Image Encoded Successfully\n"
     ]
    }
   ],
   "source": [
    "n_bits = 2\n",
    "image_to_hide = Image.open(r\"C:\\Users\\ddesh\\Desktop\\a.jpg\")\n",
    "image_to_hide_in = Image.open(r\"C:\\Users\\ddesh\\Desktop\\b.jpg\")                \n",
    "image_to_hide=image_to_hide.resize(image_to_hide_in.size)\n",
    "encode(image_to_hide, image_to_hide_in, n_bits).save(r\"C:\\Users\\ddesh\\Desktop\\de.jpg\")\n",
    "\n",
    "print(\"Image Encoded Successfully\")"
   ]
  },
  {
   "cell_type": "markdown",
   "metadata": {},
   "source": [
    "## Decoding the encoded image"
   ]
  },
  {
   "cell_type": "code",
   "execution_count": 15,
   "metadata": {},
   "outputs": [
    {
     "name": "stdout",
     "output_type": "stream",
     "text": [
      "Image decoded Successfully\n"
     ]
    }
   ],
   "source": [
    "n_bits = 2\n",
    "image_to_decode = Image.open(r\"C:\\Users\\ddesh\\Desktop\\de.jpg\")\n",
    "decode(image_to_decode, n_bits).save(r\"C:\\Users\\ddesh\\Desktop\\ef.jpg\")\n",
    "print(\"Image decoded Successfully\")"
   ]
  }
 ],
 "metadata": {
  "kernelspec": {
   "display_name": "Python 3",
   "language": "python",
   "name": "python3"
  },
  "language_info": {
   "codemirror_mode": {
    "name": "ipython",
    "version": 3
   },
   "file_extension": ".py",
   "mimetype": "text/x-python",
   "name": "python",
   "nbconvert_exporter": "python",
   "pygments_lexer": "ipython3",
   "version": "3.8.3"
  }
 },
 "nbformat": 4,
 "nbformat_minor": 4
}
